{
 "cells": [
  {
   "cell_type": "code",
   "execution_count": 15,
   "id": "a96ca68f",
   "metadata": {},
   "outputs": [],
   "source": [
    "import pandas as pd\n",
    "import numpy as np\n",
    "import matplotlib.pyplot as plt\n",
    "import seaborn as sns\n",
    "\n",
    "from sklearn.model_selection import train_test_split, cross_val_score, GridSearchCV\n",
    "from sklearn.linear_model import LinearRegression\n",
    "import xgboost as xg\n",
    "\n",
    "from sklearn.metrics import mean_squared_error as MSE\n",
    "\n",
    "import pickle"
   ]
  },
  {
   "cell_type": "code",
   "execution_count": 2,
   "id": "4fd86077",
   "metadata": {},
   "outputs": [
    {
     "data": {
      "text/html": [
       "<div>\n",
       "<style scoped>\n",
       "    .dataframe tbody tr th:only-of-type {\n",
       "        vertical-align: middle;\n",
       "    }\n",
       "\n",
       "    .dataframe tbody tr th {\n",
       "        vertical-align: top;\n",
       "    }\n",
       "\n",
       "    .dataframe thead th {\n",
       "        text-align: right;\n",
       "    }\n",
       "</style>\n",
       "<table border=\"1\" class=\"dataframe\">\n",
       "  <thead>\n",
       "    <tr style=\"text-align: right;\">\n",
       "      <th></th>\n",
       "      <th>pickup_day</th>\n",
       "      <th>pickup_hour</th>\n",
       "      <th>pickup_minute</th>\n",
       "      <th>passenger_count</th>\n",
       "      <th>trip_distance</th>\n",
       "      <th>pickup_longitude</th>\n",
       "      <th>pickup_latitude</th>\n",
       "      <th>dropoff_longitude</th>\n",
       "      <th>dropoff_latitude</th>\n",
       "      <th>fare_amount</th>\n",
       "    </tr>\n",
       "  </thead>\n",
       "  <tbody>\n",
       "    <tr>\n",
       "      <th>0</th>\n",
       "      <td>-0.477812</td>\n",
       "      <td>-1.764541</td>\n",
       "      <td>-1.704535</td>\n",
       "      <td>-0.502770</td>\n",
       "      <td>-0.568382</td>\n",
       "      <td>0.115029</td>\n",
       "      <td>-0.367057</td>\n",
       "      <td>-0.689024</td>\n",
       "      <td>0.034806</td>\n",
       "      <td>-0.035390</td>\n",
       "    </tr>\n",
       "    <tr>\n",
       "      <th>1</th>\n",
       "      <td>-0.477812</td>\n",
       "      <td>-1.764541</td>\n",
       "      <td>-1.704535</td>\n",
       "      <td>-0.502770</td>\n",
       "      <td>0.911317</td>\n",
       "      <td>-1.036111</td>\n",
       "      <td>-1.300375</td>\n",
       "      <td>-0.896753</td>\n",
       "      <td>-2.654296</td>\n",
       "      <td>0.554403</td>\n",
       "    </tr>\n",
       "    <tr>\n",
       "      <th>2</th>\n",
       "      <td>-0.477812</td>\n",
       "      <td>-1.764541</td>\n",
       "      <td>-1.704535</td>\n",
       "      <td>-0.502770</td>\n",
       "      <td>-0.870212</td>\n",
       "      <td>-1.510956</td>\n",
       "      <td>-0.353309</td>\n",
       "      <td>-0.784995</td>\n",
       "      <td>-0.478224</td>\n",
       "      <td>-0.743143</td>\n",
       "    </tr>\n",
       "    <tr>\n",
       "      <th>3</th>\n",
       "      <td>-0.477812</td>\n",
       "      <td>-1.764541</td>\n",
       "      <td>-1.704535</td>\n",
       "      <td>-0.502770</td>\n",
       "      <td>1.272040</td>\n",
       "      <td>-1.398627</td>\n",
       "      <td>-0.473948</td>\n",
       "      <td>-1.523679</td>\n",
       "      <td>-1.893829</td>\n",
       "      <td>1.144197</td>\n",
       "    </tr>\n",
       "    <tr>\n",
       "      <th>4</th>\n",
       "      <td>-0.477812</td>\n",
       "      <td>-1.764541</td>\n",
       "      <td>-1.704535</td>\n",
       "      <td>1.988981</td>\n",
       "      <td>0.167787</td>\n",
       "      <td>-0.649922</td>\n",
       "      <td>-1.539934</td>\n",
       "      <td>-1.402365</td>\n",
       "      <td>-0.539575</td>\n",
       "      <td>0.436445</td>\n",
       "    </tr>\n",
       "  </tbody>\n",
       "</table>\n",
       "</div>"
      ],
      "text/plain": [
       "   pickup_day  pickup_hour  pickup_minute  passenger_count  trip_distance  \\\n",
       "0   -0.477812    -1.764541      -1.704535        -0.502770      -0.568382   \n",
       "1   -0.477812    -1.764541      -1.704535        -0.502770       0.911317   \n",
       "2   -0.477812    -1.764541      -1.704535        -0.502770      -0.870212   \n",
       "3   -0.477812    -1.764541      -1.704535        -0.502770       1.272040   \n",
       "4   -0.477812    -1.764541      -1.704535         1.988981       0.167787   \n",
       "\n",
       "   pickup_longitude  pickup_latitude  dropoff_longitude  dropoff_latitude  \\\n",
       "0          0.115029        -0.367057          -0.689024          0.034806   \n",
       "1         -1.036111        -1.300375          -0.896753         -2.654296   \n",
       "2         -1.510956        -0.353309          -0.784995         -0.478224   \n",
       "3         -1.398627        -0.473948          -1.523679         -1.893829   \n",
       "4         -0.649922        -1.539934          -1.402365         -0.539575   \n",
       "\n",
       "   fare_amount  \n",
       "0    -0.035390  \n",
       "1     0.554403  \n",
       "2    -0.743143  \n",
       "3     1.144197  \n",
       "4     0.436445  "
      ]
     },
     "execution_count": 2,
     "metadata": {},
     "output_type": "execute_result"
    }
   ],
   "source": [
    "df = pd.read_csv('price_model_data.zip')\n",
    "df.drop(columns=['Unnamed: 0'], inplace=True)\n",
    "df.head()"
   ]
  },
  {
   "cell_type": "code",
   "execution_count": 3,
   "id": "fb7e51c6",
   "metadata": {},
   "outputs": [],
   "source": [
    "features = list(df.columns)\n",
    "target = 'fare_amount'\n",
    "features.remove(target)"
   ]
  },
  {
   "cell_type": "code",
   "execution_count": 14,
   "id": "2c17c55b",
   "metadata": {},
   "outputs": [
    {
     "data": {
      "text/plain": [
       "XGBRegressor(base_score=0.5, booster='gbtree', colsample_bylevel=1,\n",
       "             colsample_bynode=1, colsample_bytree=1, enable_categorical=False,\n",
       "             gamma=0, gpu_id=-1, importance_type=None,\n",
       "             interaction_constraints='', learning_rate=0.300000012,\n",
       "             max_delta_step=0, max_depth=6, min_child_weight=1, missing=nan,\n",
       "             monotone_constraints='()', n_estimators=100, n_jobs=16,\n",
       "             num_parallel_tree=1, predictor='auto', random_state=0, reg_alpha=0,\n",
       "             reg_lambda=1, scale_pos_weight=1, subsample=1, tree_method='exact',\n",
       "             validate_parameters=1, verbosity=None)"
      ]
     },
     "execution_count": 14,
     "metadata": {},
     "output_type": "execute_result"
    }
   ],
   "source": [
    "X = df[features]\n",
    "y = df[target]\n",
    "\n",
    "xgb_regr = xg.XGBRegressor(objective='reg:squarederror', n_estimators = 100)\n",
    "xgb_regr.fit(X, y)"
   ]
  },
  {
   "cell_type": "code",
   "execution_count": 16,
   "id": "3fc170aa",
   "metadata": {},
   "outputs": [],
   "source": [
    "filename = 'price_model.pkl'\n",
    "pickle.dump(xgb_regr, open(filename, 'wb'))"
   ]
  },
  {
   "cell_type": "code",
   "execution_count": null,
   "id": "15e91fc4",
   "metadata": {},
   "outputs": [],
   "source": []
  }
 ],
 "metadata": {
  "kernelspec": {
   "display_name": "Python 3",
   "language": "python",
   "name": "python3"
  },
  "language_info": {
   "codemirror_mode": {
    "name": "ipython",
    "version": 3
   },
   "file_extension": ".py",
   "mimetype": "text/x-python",
   "name": "python",
   "nbconvert_exporter": "python",
   "pygments_lexer": "ipython3",
   "version": "3.8.8"
  }
 },
 "nbformat": 4,
 "nbformat_minor": 5
}

{
 "cells": [
  {
   "cell_type": "code",
   "execution_count": 1,
   "id": "0f360ec9",
   "metadata": {},
   "outputs": [],
   "source": [
    "import pandas as pd\n",
    "import numpy as np\n",
    "import matplotlib.pyplot as plt\n",
    "import seaborn as sns"
   ]
  },
  {
   "cell_type": "code",
   "execution_count": 2,
   "id": "2b866fd1",
   "metadata": {},
   "outputs": [],
   "source": [
    "df = pd.read_csv('yellow_tripdata_2016-01.csv.zip')"
   ]
  },
  {
   "cell_type": "code",
   "execution_count": 3,
   "id": "eea453d8",
   "metadata": {},
   "outputs": [],
   "source": [
    "original = df.copy()"
   ]
  },
  {
   "cell_type": "code",
   "execution_count": 4,
   "id": "1cd2b252",
   "metadata": {},
   "outputs": [
    {
     "data": {
      "text/plain": [
       "(10906858, 19)"
      ]
     },
     "execution_count": 4,
     "metadata": {},
     "output_type": "execute_result"
    }
   ],
   "source": [
    "df.shape"
   ]
  },
  {
   "cell_type": "markdown",
   "id": "b06e9b1d",
   "metadata": {},
   "source": [
    "**sampling the df since it's too big:**"
   ]
  },
  {
   "cell_type": "code",
   "execution_count": 5,
   "id": "1621f48b",
   "metadata": {},
   "outputs": [],
   "source": [
    "df.sort_values(by='tpep_pickup_datetime')\n",
    "df = df.iloc[:1000000, :]"
   ]
  },
  {
   "cell_type": "code",
   "execution_count": 6,
   "id": "a35c72aa",
   "metadata": {},
   "outputs": [],
   "source": [
    "# df = df.sample(1000000, random_state=42)"
   ]
  },
  {
   "cell_type": "code",
   "execution_count": 7,
   "id": "cf8a029e",
   "metadata": {},
   "outputs": [
    {
     "data": {
      "text/plain": [
       "Index(['VendorID', 'tpep_pickup_datetime', 'tpep_dropoff_datetime',\n",
       "       'passenger_count', 'trip_distance', 'pickup_longitude',\n",
       "       'pickup_latitude', 'RatecodeID', 'store_and_fwd_flag',\n",
       "       'dropoff_longitude', 'dropoff_latitude', 'payment_type', 'fare_amount',\n",
       "       'extra', 'mta_tax', 'tip_amount', 'tolls_amount',\n",
       "       'improvement_surcharge', 'total_amount'],\n",
       "      dtype='object')"
      ]
     },
     "execution_count": 7,
     "metadata": {},
     "output_type": "execute_result"
    }
   ],
   "source": [
    "df.columns"
   ]
  },
  {
   "cell_type": "code",
   "execution_count": 8,
   "id": "aeb9d9e8",
   "metadata": {},
   "outputs": [],
   "source": [
    "relevant_feats = ['tpep_pickup_datetime', 'tpep_dropoff_datetime', 'passenger_count', 'trip_distance', 'pickup_longitude',\n",
    "                  'pickup_latitude', 'dropoff_longitude', 'dropoff_latitude', 'fare_amount']\n",
    "\n",
    "coordinates_feats = ['pickup_longitude', 'pickup_latitude', 'dropoff_longitude', 'dropoff_latitude']"
   ]
  },
  {
   "cell_type": "code",
   "execution_count": 9,
   "id": "10e85ee5",
   "metadata": {
    "scrolled": false
   },
   "outputs": [
    {
     "data": {
      "text/html": [
       "<div>\n",
       "<style scoped>\n",
       "    .dataframe tbody tr th:only-of-type {\n",
       "        vertical-align: middle;\n",
       "    }\n",
       "\n",
       "    .dataframe tbody tr th {\n",
       "        vertical-align: top;\n",
       "    }\n",
       "\n",
       "    .dataframe thead th {\n",
       "        text-align: right;\n",
       "    }\n",
       "</style>\n",
       "<table border=\"1\" class=\"dataframe\">\n",
       "  <thead>\n",
       "    <tr style=\"text-align: right;\">\n",
       "      <th></th>\n",
       "      <th>597114</th>\n",
       "      <th>546490</th>\n",
       "      <th>909998</th>\n",
       "      <th>850047</th>\n",
       "      <th>49464</th>\n",
       "    </tr>\n",
       "  </thead>\n",
       "  <tbody>\n",
       "    <tr>\n",
       "      <th>tpep_pickup_datetime</th>\n",
       "      <td>2016-01-02 21:21:16</td>\n",
       "      <td>2016-01-02 16:41:27</td>\n",
       "      <td>2016-01-03 20:15:36</td>\n",
       "      <td>2016-01-03 16:42:46</td>\n",
       "      <td>2016-01-01 00:26:20</td>\n",
       "    </tr>\n",
       "    <tr>\n",
       "      <th>tpep_dropoff_datetime</th>\n",
       "      <td>2016-01-02 21:34:45</td>\n",
       "      <td>2016-01-02 16:49:22</td>\n",
       "      <td>2016-01-03 20:21:23</td>\n",
       "      <td>2016-01-03 17:12:16</td>\n",
       "      <td>2016-01-01 00:42:29</td>\n",
       "    </tr>\n",
       "    <tr>\n",
       "      <th>passenger_count</th>\n",
       "      <td>1</td>\n",
       "      <td>2</td>\n",
       "      <td>1</td>\n",
       "      <td>1</td>\n",
       "      <td>1</td>\n",
       "    </tr>\n",
       "    <tr>\n",
       "      <th>trip_distance</th>\n",
       "      <td>2.24</td>\n",
       "      <td>1.93</td>\n",
       "      <td>0.9</td>\n",
       "      <td>7.8</td>\n",
       "      <td>3.1</td>\n",
       "    </tr>\n",
       "    <tr>\n",
       "      <th>pickup_longitude</th>\n",
       "      <td>-73.973274</td>\n",
       "      <td>-73.932213</td>\n",
       "      <td>-74.002571</td>\n",
       "      <td>-73.863197</td>\n",
       "      <td>-73.9767</td>\n",
       "    </tr>\n",
       "    <tr>\n",
       "      <th>pickup_latitude</th>\n",
       "      <td>40.747776</td>\n",
       "      <td>40.79549</td>\n",
       "      <td>40.733822</td>\n",
       "      <td>40.768723</td>\n",
       "      <td>40.793118</td>\n",
       "    </tr>\n",
       "    <tr>\n",
       "      <th>dropoff_longitude</th>\n",
       "      <td>-73.987686</td>\n",
       "      <td>-73.955338</td>\n",
       "      <td>-73.990913</td>\n",
       "      <td>-73.941505</td>\n",
       "      <td>-73.958778</td>\n",
       "    </tr>\n",
       "    <tr>\n",
       "      <th>dropoff_latitude</th>\n",
       "      <td>40.72142</td>\n",
       "      <td>40.785801</td>\n",
       "      <td>40.734455</td>\n",
       "      <td>40.707279</td>\n",
       "      <td>40.778316</td>\n",
       "    </tr>\n",
       "    <tr>\n",
       "      <th>fare_amount</th>\n",
       "      <td>10.5</td>\n",
       "      <td>8.0</td>\n",
       "      <td>6.0</td>\n",
       "      <td>25.5</td>\n",
       "      <td>13.5</td>\n",
       "    </tr>\n",
       "  </tbody>\n",
       "</table>\n",
       "</div>"
      ],
      "text/plain": [
       "                                    597114               546490  \\\n",
       "tpep_pickup_datetime   2016-01-02 21:21:16  2016-01-02 16:41:27   \n",
       "tpep_dropoff_datetime  2016-01-02 21:34:45  2016-01-02 16:49:22   \n",
       "passenger_count                          1                    2   \n",
       "trip_distance                         2.24                 1.93   \n",
       "pickup_longitude                -73.973274           -73.932213   \n",
       "pickup_latitude                  40.747776             40.79549   \n",
       "dropoff_longitude               -73.987686           -73.955338   \n",
       "dropoff_latitude                  40.72142            40.785801   \n",
       "fare_amount                           10.5                  8.0   \n",
       "\n",
       "                                    909998               850047  \\\n",
       "tpep_pickup_datetime   2016-01-03 20:15:36  2016-01-03 16:42:46   \n",
       "tpep_dropoff_datetime  2016-01-03 20:21:23  2016-01-03 17:12:16   \n",
       "passenger_count                          1                    1   \n",
       "trip_distance                          0.9                  7.8   \n",
       "pickup_longitude                -74.002571           -73.863197   \n",
       "pickup_latitude                  40.733822            40.768723   \n",
       "dropoff_longitude               -73.990913           -73.941505   \n",
       "dropoff_latitude                 40.734455            40.707279   \n",
       "fare_amount                            6.0                 25.5   \n",
       "\n",
       "                                    49464   \n",
       "tpep_pickup_datetime   2016-01-01 00:26:20  \n",
       "tpep_dropoff_datetime  2016-01-01 00:42:29  \n",
       "passenger_count                          1  \n",
       "trip_distance                          3.1  \n",
       "pickup_longitude                  -73.9767  \n",
       "pickup_latitude                  40.793118  \n",
       "dropoff_longitude               -73.958778  \n",
       "dropoff_latitude                 40.778316  \n",
       "fare_amount                           13.5  "
      ]
     },
     "execution_count": 9,
     "metadata": {},
     "output_type": "execute_result"
    }
   ],
   "source": [
    "df.sample(5)[relevant_feats].T"
   ]
  },
  {
   "cell_type": "markdown",
   "id": "324e24c3",
   "metadata": {},
   "source": [
    "leakage - 'tpep_dropoff_datetime',\n",
    "enrich - 'trip_distance' (external API, euclidean / manhattan)\n",
    "valid - 'tpep_pickup_datetime', 'pickup_longitude', 'pickup_latitude', 'dropoff_longitude', 'dropoff_latitude']"
   ]
  },
  {
   "cell_type": "markdown",
   "id": "025846cd",
   "metadata": {},
   "source": [
    "**converting datetime features to be of type datetime and creating the target for the duration predictions model:**"
   ]
  },
  {
   "cell_type": "code",
   "execution_count": 10,
   "id": "ab68dcc2",
   "metadata": {},
   "outputs": [],
   "source": [
    "df['pickup_datetime'] = df['tpep_pickup_datetime'].astype('datetime64')\n",
    "df['dropoff_datetime'] = df['tpep_dropoff_datetime'].astype('datetime64')"
   ]
  },
  {
   "cell_type": "code",
   "execution_count": 11,
   "id": "50744e54",
   "metadata": {},
   "outputs": [],
   "source": [
    "df['pickup_day'] = df['pickup_datetime'].dt.day_of_week\n",
    "df['dropoff_day'] = df['dropoff_datetime'].dt.day_of_week"
   ]
  },
  {
   "cell_type": "code",
   "execution_count": 12,
   "id": "3ba0b824",
   "metadata": {},
   "outputs": [],
   "source": [
    "df['pickup_hour'] = df['pickup_datetime'].dt.hour\n",
    "df['dropoff_hour'] = df['dropoff_datetime'].dt.hour"
   ]
  },
  {
   "cell_type": "code",
   "execution_count": 13,
   "id": "4d2a91df",
   "metadata": {},
   "outputs": [],
   "source": [
    "df['pickup_minute'] = df['pickup_datetime'].dt.minute\n",
    "df['dropoff_minute'] = df['dropoff_datetime'].dt.minute"
   ]
  },
  {
   "cell_type": "code",
   "execution_count": 14,
   "id": "60b40f7b",
   "metadata": {},
   "outputs": [
    {
     "data": {
      "text/plain": [
       "400016     3.200000\n",
       "492544     7.550000\n",
       "693229    18.450000\n",
       "638548    15.083333\n",
       "959695    23.783333\n",
       "Name: duration, dtype: float64"
      ]
     },
     "execution_count": 14,
     "metadata": {},
     "output_type": "execute_result"
    }
   ],
   "source": [
    "df['duration'] = (df['dropoff_datetime'] - df['pickup_datetime']).apply(lambda td: td.seconds/60)\n",
    "df['duration'].sample(5)"
   ]
  },
  {
   "cell_type": "code",
   "execution_count": 15,
   "id": "86124aa6",
   "metadata": {},
   "outputs": [],
   "source": [
    "duration_target = 'duration'"
   ]
  },
  {
   "cell_type": "code",
   "execution_count": 16,
   "id": "fd2db4e9",
   "metadata": {},
   "outputs": [
    {
     "data": {
      "text/plain": [
       "['passenger_count',\n",
       " 'trip_distance',\n",
       " 'pickup_longitude',\n",
       " 'pickup_latitude',\n",
       " 'dropoff_longitude',\n",
       " 'dropoff_latitude',\n",
       " 'fare_amount',\n",
       " 'dropoff_datetime',\n",
       " 'pickup_datetime',\n",
       " 'pickup_day',\n",
       " 'dropoff_day',\n",
       " 'pickup_hour',\n",
       " 'dropoff_hour',\n",
       " 'pickup_minute',\n",
       " 'dropoff_minute',\n",
       " 'duration']"
      ]
     },
     "execution_count": 16,
     "metadata": {},
     "output_type": "execute_result"
    }
   ],
   "source": [
    "engineered_feats = ['dropoff_datetime', 'pickup_datetime', 'pickup_day', 'dropoff_day', \n",
    "                    'pickup_hour', 'dropoff_hour', 'pickup_minute', 'dropoff_minute', 'duration']\n",
    "relevant_feats.extend(engineered_feats)\n",
    "\n",
    "relevant_feats.remove('tpep_dropoff_datetime')\n",
    "relevant_feats.remove('tpep_pickup_datetime')\n",
    "relevant_feats"
   ]
  },
  {
   "cell_type": "markdown",
   "id": "85eae789",
   "metadata": {},
   "source": [
    "**integrity checks:**"
   ]
  },
  {
   "cell_type": "code",
   "execution_count": 17,
   "id": "411b88d7",
   "metadata": {},
   "outputs": [
    {
     "data": {
      "text/plain": [
       "998884"
      ]
     },
     "execution_count": 17,
     "metadata": {},
     "output_type": "execute_result"
    }
   ],
   "source": [
    "len(df[df['pickup_datetime'] < df['dropoff_datetime']])"
   ]
  },
  {
   "cell_type": "code",
   "execution_count": 18,
   "id": "f91ac0f3",
   "metadata": {},
   "outputs": [
    {
     "data": {
      "text/plain": [
       "1116"
      ]
     },
     "execution_count": 18,
     "metadata": {},
     "output_type": "execute_result"
    }
   ],
   "source": [
    "len(df[df['pickup_datetime'] >= df['dropoff_datetime']])"
   ]
  },
  {
   "cell_type": "code",
   "execution_count": 19,
   "id": "2ec6c7e1",
   "metadata": {},
   "outputs": [
    {
     "data": {
      "text/plain": [
       "999267"
      ]
     },
     "execution_count": 19,
     "metadata": {},
     "output_type": "execute_result"
    }
   ],
   "source": [
    "len(df[df['fare_amount'] > 0])"
   ]
  },
  {
   "cell_type": "code",
   "execution_count": 20,
   "id": "fab1cad3",
   "metadata": {},
   "outputs": [
    {
     "data": {
      "text/plain": [
       "733"
      ]
     },
     "execution_count": 20,
     "metadata": {},
     "output_type": "execute_result"
    }
   ],
   "source": [
    "len(df[df['fare_amount'] <= 0])"
   ]
  },
  {
   "cell_type": "code",
   "execution_count": 21,
   "id": "ff9eee77",
   "metadata": {},
   "outputs": [
    {
     "data": {
      "text/plain": [
       "6562"
      ]
     },
     "execution_count": 21,
     "metadata": {},
     "output_type": "execute_result"
    }
   ],
   "source": [
    "len(df[df['trip_distance'] <= 0])"
   ]
  },
  {
   "cell_type": "code",
   "execution_count": 22,
   "id": "3ba1c968",
   "metadata": {},
   "outputs": [
    {
     "data": {
      "text/plain": [
       "1000000"
      ]
     },
     "execution_count": 22,
     "metadata": {},
     "output_type": "execute_result"
    }
   ],
   "source": [
    "len(df['passenger_count'] > 0)"
   ]
  },
  {
   "cell_type": "code",
   "execution_count": 23,
   "id": "add4c3f1",
   "metadata": {},
   "outputs": [
    {
     "data": {
      "text/plain": [
       "1    662767\n",
       "2    170420\n",
       "5     53982\n",
       "3     51040\n",
       "6     32432\n",
       "4     29293\n",
       "0        58\n",
       "8         5\n",
       "7         3\n",
       "Name: passenger_count, dtype: int64"
      ]
     },
     "execution_count": 23,
     "metadata": {},
     "output_type": "execute_result"
    }
   ],
   "source": [
    "df['passenger_count'].value_counts()"
   ]
  },
  {
   "cell_type": "code",
   "execution_count": 24,
   "id": "af8f1eab",
   "metadata": {
    "scrolled": true
   },
   "outputs": [
    {
     "name": "stdout",
     "output_type": "stream",
     "text": [
      "pickup_longitude: 16302\n",
      "pickup_latitude: 16302\n",
      "dropoff_longitude: 15590\n",
      "dropoff_latitude: 15590\n"
     ]
    }
   ],
   "source": [
    "for feat in coordinates_feats:\n",
    "    print(f'{feat}: {(df[feat] == 0).sum()}')"
   ]
  },
  {
   "cell_type": "markdown",
   "id": "34f66bbd",
   "metadata": {},
   "source": [
    "**dropping off invalid data:**"
   ]
  },
  {
   "cell_type": "code",
   "execution_count": 25,
   "id": "afe28191",
   "metadata": {},
   "outputs": [
    {
     "data": {
      "text/plain": [
       "(1000000, 28)"
      ]
     },
     "execution_count": 25,
     "metadata": {},
     "output_type": "execute_result"
    }
   ],
   "source": [
    "df.shape"
   ]
  },
  {
   "cell_type": "code",
   "execution_count": 26,
   "id": "65f9e1f9",
   "metadata": {},
   "outputs": [],
   "source": [
    "df = df[df['pickup_datetime'] < df['dropoff_datetime']]"
   ]
  },
  {
   "cell_type": "code",
   "execution_count": 27,
   "id": "d6d8e96b",
   "metadata": {},
   "outputs": [
    {
     "data": {
      "text/plain": [
       "(998884, 28)"
      ]
     },
     "execution_count": 27,
     "metadata": {},
     "output_type": "execute_result"
    }
   ],
   "source": [
    "df.shape"
   ]
  },
  {
   "cell_type": "code",
   "execution_count": 28,
   "id": "4a4d1a2e",
   "metadata": {},
   "outputs": [],
   "source": [
    "df = df[df['fare_amount'] > 0]"
   ]
  },
  {
   "cell_type": "code",
   "execution_count": 29,
   "id": "c7f2374f",
   "metadata": {},
   "outputs": [
    {
     "data": {
      "text/plain": [
       "(998186, 28)"
      ]
     },
     "execution_count": 29,
     "metadata": {},
     "output_type": "execute_result"
    }
   ],
   "source": [
    "df.shape"
   ]
  },
  {
   "cell_type": "code",
   "execution_count": 30,
   "id": "fc231475",
   "metadata": {},
   "outputs": [],
   "source": [
    "df = df[df['trip_distance'] > 0]"
   ]
  },
  {
   "cell_type": "code",
   "execution_count": 31,
   "id": "c35ffc3d",
   "metadata": {},
   "outputs": [
    {
     "data": {
      "text/plain": [
       "(992841, 28)"
      ]
     },
     "execution_count": 31,
     "metadata": {},
     "output_type": "execute_result"
    }
   ],
   "source": [
    "df.shape"
   ]
  },
  {
   "cell_type": "code",
   "execution_count": 32,
   "id": "9306817e",
   "metadata": {},
   "outputs": [],
   "source": [
    "df = df[np.logical_or(df['passenger_count'] == 2, df['passenger_count'] == 1)]"
   ]
  },
  {
   "cell_type": "code",
   "execution_count": 33,
   "id": "020270bd",
   "metadata": {},
   "outputs": [
    {
     "data": {
      "text/plain": [
       "1    657449\n",
       "2    169345\n",
       "Name: passenger_count, dtype: int64"
      ]
     },
     "execution_count": 33,
     "metadata": {},
     "output_type": "execute_result"
    }
   ],
   "source": [
    "df['passenger_count'].value_counts()"
   ]
  },
  {
   "cell_type": "code",
   "execution_count": 34,
   "id": "6c1caa0a",
   "metadata": {
    "scrolled": false
   },
   "outputs": [
    {
     "data": {
      "text/plain": [
       "(826794, 28)"
      ]
     },
     "execution_count": 34,
     "metadata": {},
     "output_type": "execute_result"
    }
   ],
   "source": [
    "df.shape"
   ]
  },
  {
   "cell_type": "code",
   "execution_count": 35,
   "id": "989c01b9",
   "metadata": {
    "scrolled": true
   },
   "outputs": [],
   "source": [
    "indices0 = df[coordinates_feats].isin([0]).any(axis=1)\n",
    "df = df[~indices0]"
   ]
  },
  {
   "cell_type": "code",
   "execution_count": 36,
   "id": "5190c0a8",
   "metadata": {},
   "outputs": [
    {
     "data": {
      "text/plain": [
       "(813262, 28)"
      ]
     },
     "execution_count": 36,
     "metadata": {},
     "output_type": "execute_result"
    }
   ],
   "source": [
    "df.shape"
   ]
  },
  {
   "cell_type": "markdown",
   "id": "f28d23cc",
   "metadata": {},
   "source": [
    "**some visualizations:**"
   ]
  },
  {
   "cell_type": "code",
   "execution_count": 37,
   "id": "1111061a",
   "metadata": {
    "scrolled": false
   },
   "outputs": [
    {
     "name": "stderr",
     "output_type": "stream",
     "text": [
      "<ipython-input-37-0973ddab7f8f>:8: UserWarning: Matplotlib is currently using module://ipykernel.pylab.backend_inline, which is a non-GUI backend, so cannot show the figure.\n",
      "  fig.show()\n"
     ]
    },
    {
     "data": {
      "image/png": "[encoded data removed]",
      "text/plain": [
       "<Figure size 1080x576 with 16 Axes>"
      ]
     },
     "metadata": {
      "needs_background": "light"
     },
     "output_type": "display_data"
    }
   ],
   "source": [
    "fig = plt.figure(figsize=(15, 8))\n",
    "\n",
    "for i, feat in enumerate(relevant_feats):        \n",
    "    plt.subplot(4, 4, i + 1)\n",
    "    sns.kdeplot(df[feat])\n",
    "    \n",
    "fig.tight_layout()\n",
    "fig.show()"
   ]
  },
  {
   "cell_type": "markdown",
   "id": "d1b6a9d4",
   "metadata": {},
   "source": [
    "**taking care of outliers in these features:**\n",
    "\n",
    "- trip_distance\n",
    "- fare_amount\n",
    "- duration\n",
    "- coordinates features"
   ]
  },
  {
   "cell_type": "code",
   "execution_count": 38,
   "id": "88f6e508",
   "metadata": {},
   "outputs": [],
   "source": [
    "copy = df.copy()"
   ]
  },
  {
   "cell_type": "code",
   "execution_count": 39,
   "id": "d9a81a05",
   "metadata": {
    "scrolled": true
   },
   "outputs": [
    {
     "name": "stdout",
     "output_type": "stream",
     "text": [
      "trip_distance\n",
      "bottom: -2.5549999999999997\ttop: 7.164999999999999\n",
      "IQR: 2.4299999999999997\n",
      "\n",
      "shape before: (813262, 28)\n",
      "shape after: (725770, 28)\n",
      "\n",
      "fare_amount\n",
      "bottom: -4.75\ttop: 25.25\n",
      "IQR: 7.5\n",
      "\n",
      "shape before: (725770, 28)\n",
      "shape after: (722658, 28)\n",
      "\n",
      "duration\n",
      "bottom: -8.741666666666664\ttop: 29.85833333333333\n",
      "IQR: 9.649999999999999\n",
      "\n",
      "shape before: (722658, 28)\n",
      "shape after: (717982, 28)\n",
      "\n",
      "pickup_longitude\n",
      "bottom: -74.03041458129883\ttop: -73.92656326293945\n",
      "IQR: 0.02596282958984375\n",
      "\n",
      "shape before: (717982, 28)\n",
      "shape after: (702044, 28)\n",
      "\n",
      "pickup_latitude\n",
      "bottom: 40.683513641357436\ttop: 40.81989669799803\n",
      "IQR: 0.034095764160149145\n",
      "\n",
      "shape before: (702044, 28)\n",
      "shape after: (693546, 28)\n",
      "\n",
      "dropoff_longitude\n",
      "bottom: -74.03657531738278\ttop: -73.91505432128909\n",
      "IQR: 0.03038024902342329\n",
      "\n",
      "shape before: (693546, 28)\n",
      "shape after: (687377, 28)\n",
      "\n",
      "dropoff_latitude\n",
      "bottom: 40.67919731140137\ttop: 40.824323654174805\n",
      "IQR: 0.036281585693359375\n",
      "\n",
      "shape before: (687377, 28)\n",
      "shape after: (678344, 28)\n",
      "\n"
     ]
    }
   ],
   "source": [
    "outliers_feats = ['trip_distance', 'fare_amount', 'duration']\n",
    "outliers_feats.extend(coordinates_feats)\n",
    "for feat in outliers_feats:\n",
    "    Q1 = copy[feat].quantile(.25)\n",
    "    Q3 = copy[feat].quantile(.75)\n",
    "    IQR = Q3 - Q1\n",
    "    \n",
    "    bottom_bound = Q1 - 1.5 * IQR\n",
    "    top_bound = Q3 + 1.5 * IQR\n",
    "    \n",
    "    print(f'{feat}\\nbottom: {bottom_bound}\\ttop: {top_bound}\\nIQR: {IQR}\\n')\n",
    "    \n",
    "    print(f'shape before: {df.shape}')\n",
    "    df = df[df[feat].between(bottom_bound, top_bound)]\n",
    "    print(f'shape after: {df.shape}\\n')"
   ]
  },
  {
   "cell_type": "code",
   "execution_count": 40,
   "id": "1bdc9f99",
   "metadata": {},
   "outputs": [
    {
     "name": "stderr",
     "output_type": "stream",
     "text": [
      "C:\\Users\\haimk\\anaconda3\\lib\\site-packages\\seaborn\\_decorators.py:36: FutureWarning: Pass the following variable as a keyword arg: x. From version 0.12, the only valid positional argument will be `data`, and passing other arguments without an explicit keyword will result in an error or misinterpretation.\n",
      "  warnings.warn(\n",
      "C:\\Users\\haimk\\anaconda3\\lib\\site-packages\\seaborn\\_decorators.py:36: FutureWarning: Pass the following variable as a keyword arg: x. From version 0.12, the only valid positional argument will be `data`, and passing other arguments without an explicit keyword will result in an error or misinterpretation.\n",
      "  warnings.warn(\n",
      "C:\\Users\\haimk\\anaconda3\\lib\\site-packages\\seaborn\\_decorators.py:36: FutureWarning: Pass the following variable as a keyword arg: x. From version 0.12, the only valid positional argument will be `data`, and passing other arguments without an explicit keyword will result in an error or misinterpretation.\n",
      "  warnings.warn(\n",
      "C:\\Users\\haimk\\anaconda3\\lib\\site-packages\\seaborn\\_decorators.py:36: FutureWarning: Pass the following variable as a keyword arg: x. From version 0.12, the only valid positional argument will be `data`, and passing other arguments without an explicit keyword will result in an error or misinterpretation.\n",
      "  warnings.warn(\n",
      "C:\\Users\\haimk\\anaconda3\\lib\\site-packages\\seaborn\\_decorators.py:36: FutureWarning: Pass the following variable as a keyword arg: x. From version 0.12, the only valid positional argument will be `data`, and passing other arguments without an explicit keyword will result in an error or misinterpretation.\n",
      "  warnings.warn(\n",
      "C:\\Users\\haimk\\anaconda3\\lib\\site-packages\\seaborn\\_decorators.py:36: FutureWarning: Pass the following variable as a keyword arg: x. From version 0.12, the only valid positional argument will be `data`, and passing other arguments without an explicit keyword will result in an error or misinterpretation.\n",
      "  warnings.warn(\n",
      "C:\\Users\\haimk\\anaconda3\\lib\\site-packages\\seaborn\\_decorators.py:36: FutureWarning: Pass the following variable as a keyword arg: x. From version 0.12, the only valid positional argument will be `data`, and passing other arguments without an explicit keyword will result in an error or misinterpretation.\n",
      "  warnings.warn(\n",
      "<ipython-input-40-c93f2c026d22>:9: UserWarning: Matplotlib is currently using module://ipykernel.pylab.backend_inline, which is a non-GUI backend, so cannot show the figure.\n",
      "  fig.show()\n"
     ]
    },
    {
     "data": {
      "image/png": "[encoded data removed]",
      "text/plain": [
       "<Figure size 1080x576 with 7 Axes>"
      ]
     },
     "metadata": {
      "needs_background": "light"
     },
     "output_type": "display_data"
    }
   ],
   "source": [
    "fig = plt.figure(figsize=(15, 8))\n",
    "\n",
    "for i, feat in enumerate(outliers_feats):\n",
    "    plt.subplot(2, 4, i + 1)\n",
    "    sns.boxplot(df[feat])\n",
    "    plt.xlabel(feat)\n",
    "\n",
    "fig.tight_layout()\n",
    "fig.show()"
   ]
  },
  {
   "cell_type": "code",
   "execution_count": 41,
   "id": "267d30f5",
   "metadata": {},
   "outputs": [
    {
     "data": {
      "text/html": [
       "<div>\n",
       "<style scoped>\n",
       "    .dataframe tbody tr th:only-of-type {\n",
       "        vertical-align: middle;\n",
       "    }\n",
       "\n",
       "    .dataframe tbody tr th {\n",
       "        vertical-align: top;\n",
       "    }\n",
       "\n",
       "    .dataframe thead th {\n",
       "        text-align: right;\n",
       "    }\n",
       "</style>\n",
       "<table border=\"1\" class=\"dataframe\">\n",
       "  <thead>\n",
       "    <tr style=\"text-align: right;\">\n",
       "      <th></th>\n",
       "      <th>count</th>\n",
       "      <th>mean</th>\n",
       "      <th>std</th>\n",
       "      <th>min</th>\n",
       "      <th>25%</th>\n",
       "      <th>50%</th>\n",
       "      <th>75%</th>\n",
       "      <th>max</th>\n",
       "    </tr>\n",
       "  </thead>\n",
       "  <tbody>\n",
       "    <tr>\n",
       "      <th>passenger_count</th>\n",
       "      <td>678344.0</td>\n",
       "      <td>1.201774</td>\n",
       "      <td>0.401324</td>\n",
       "      <td>1.000000</td>\n",
       "      <td>1.000000</td>\n",
       "      <td>1.000000</td>\n",
       "      <td>1.000000</td>\n",
       "      <td>2.000000</td>\n",
       "    </tr>\n",
       "    <tr>\n",
       "      <th>trip_distance</th>\n",
       "      <td>678344.0</td>\n",
       "      <td>1.972081</td>\n",
       "      <td>1.358385</td>\n",
       "      <td>0.010000</td>\n",
       "      <td>1.000000</td>\n",
       "      <td>1.600000</td>\n",
       "      <td>2.600000</td>\n",
       "      <td>7.160000</td>\n",
       "    </tr>\n",
       "    <tr>\n",
       "      <th>pickup_longitude</th>\n",
       "      <td>678344.0</td>\n",
       "      <td>-73.981314</td>\n",
       "      <td>0.016437</td>\n",
       "      <td>-74.030319</td>\n",
       "      <td>-73.992188</td>\n",
       "      <td>-73.983009</td>\n",
       "      <td>-73.971252</td>\n",
       "      <td>-73.926567</td>\n",
       "    </tr>\n",
       "    <tr>\n",
       "      <th>pickup_latitude</th>\n",
       "      <td>678344.0</td>\n",
       "      <td>40.752762</td>\n",
       "      <td>0.022198</td>\n",
       "      <td>40.683529</td>\n",
       "      <td>40.737263</td>\n",
       "      <td>40.752926</td>\n",
       "      <td>40.767761</td>\n",
       "      <td>40.819893</td>\n",
       "    </tr>\n",
       "    <tr>\n",
       "      <th>dropoff_longitude</th>\n",
       "      <td>678344.0</td>\n",
       "      <td>-73.979382</td>\n",
       "      <td>0.018364</td>\n",
       "      <td>-74.036293</td>\n",
       "      <td>-73.991615</td>\n",
       "      <td>-73.981644</td>\n",
       "      <td>-73.968102</td>\n",
       "      <td>-73.915062</td>\n",
       "    </tr>\n",
       "    <tr>\n",
       "      <th>dropoff_latitude</th>\n",
       "      <td>678344.0</td>\n",
       "      <td>40.753096</td>\n",
       "      <td>0.024374</td>\n",
       "      <td>40.679199</td>\n",
       "      <td>40.737309</td>\n",
       "      <td>40.753979</td>\n",
       "      <td>40.768803</td>\n",
       "      <td>40.824322</td>\n",
       "    </tr>\n",
       "    <tr>\n",
       "      <th>fare_amount</th>\n",
       "      <td>678344.0</td>\n",
       "      <td>9.150012</td>\n",
       "      <td>4.238773</td>\n",
       "      <td>0.010000</td>\n",
       "      <td>6.000000</td>\n",
       "      <td>8.000000</td>\n",
       "      <td>11.500000</td>\n",
       "      <td>25.000000</td>\n",
       "    </tr>\n",
       "    <tr>\n",
       "      <th>pickup_day</th>\n",
       "      <td>678344.0</td>\n",
       "      <td>4.670456</td>\n",
       "      <td>1.403181</td>\n",
       "      <td>0.000000</td>\n",
       "      <td>4.000000</td>\n",
       "      <td>5.000000</td>\n",
       "      <td>6.000000</td>\n",
       "      <td>6.000000</td>\n",
       "    </tr>\n",
       "    <tr>\n",
       "      <th>dropoff_day</th>\n",
       "      <td>678344.0</td>\n",
       "      <td>4.671249</td>\n",
       "      <td>1.410533</td>\n",
       "      <td>0.000000</td>\n",
       "      <td>4.000000</td>\n",
       "      <td>5.000000</td>\n",
       "      <td>6.000000</td>\n",
       "      <td>6.000000</td>\n",
       "    </tr>\n",
       "    <tr>\n",
       "      <th>pickup_hour</th>\n",
       "      <td>678344.0</td>\n",
       "      <td>12.182282</td>\n",
       "      <td>6.903944</td>\n",
       "      <td>0.000000</td>\n",
       "      <td>7.000000</td>\n",
       "      <td>13.000000</td>\n",
       "      <td>18.000000</td>\n",
       "      <td>23.000000</td>\n",
       "    </tr>\n",
       "    <tr>\n",
       "      <th>dropoff_hour</th>\n",
       "      <td>678344.0</td>\n",
       "      <td>12.191513</td>\n",
       "      <td>6.921403</td>\n",
       "      <td>0.000000</td>\n",
       "      <td>7.000000</td>\n",
       "      <td>13.000000</td>\n",
       "      <td>18.000000</td>\n",
       "      <td>23.000000</td>\n",
       "    </tr>\n",
       "    <tr>\n",
       "      <th>pickup_minute</th>\n",
       "      <td>678344.0</td>\n",
       "      <td>29.600975</td>\n",
       "      <td>17.366022</td>\n",
       "      <td>0.000000</td>\n",
       "      <td>14.000000</td>\n",
       "      <td>30.000000</td>\n",
       "      <td>45.000000</td>\n",
       "      <td>59.000000</td>\n",
       "    </tr>\n",
       "    <tr>\n",
       "      <th>dropoff_minute</th>\n",
       "      <td>678344.0</td>\n",
       "      <td>29.555426</td>\n",
       "      <td>17.409867</td>\n",
       "      <td>0.000000</td>\n",
       "      <td>15.000000</td>\n",
       "      <td>29.000000</td>\n",
       "      <td>45.000000</td>\n",
       "      <td>59.000000</td>\n",
       "    </tr>\n",
       "    <tr>\n",
       "      <th>duration</th>\n",
       "      <td>678344.0</td>\n",
       "      <td>9.468073</td>\n",
       "      <td>5.479520</td>\n",
       "      <td>0.016667</td>\n",
       "      <td>5.266667</td>\n",
       "      <td>8.366667</td>\n",
       "      <td>12.600000</td>\n",
       "      <td>29.850000</td>\n",
       "    </tr>\n",
       "  </tbody>\n",
       "</table>\n",
       "</div>"
      ],
      "text/plain": [
       "                      count       mean        std        min        25%  \\\n",
       "passenger_count    678344.0   1.201774   0.401324   1.000000   1.000000   \n",
       "trip_distance      678344.0   1.972081   1.358385   0.010000   1.000000   \n",
       "pickup_longitude   678344.0 -73.981314   0.016437 -74.030319 -73.992188   \n",
       "pickup_latitude    678344.0  40.752762   0.022198  40.683529  40.737263   \n",
       "dropoff_longitude  678344.0 -73.979382   0.018364 -74.036293 -73.991615   \n",
       "dropoff_latitude   678344.0  40.753096   0.024374  40.679199  40.737309   \n",
       "fare_amount        678344.0   9.150012   4.238773   0.010000   6.000000   \n",
       "pickup_day         678344.0   4.670456   1.403181   0.000000   4.000000   \n",
       "dropoff_day        678344.0   4.671249   1.410533   0.000000   4.000000   \n",
       "pickup_hour        678344.0  12.182282   6.903944   0.000000   7.000000   \n",
       "dropoff_hour       678344.0  12.191513   6.921403   0.000000   7.000000   \n",
       "pickup_minute      678344.0  29.600975  17.366022   0.000000  14.000000   \n",
       "dropoff_minute     678344.0  29.555426  17.409867   0.000000  15.000000   \n",
       "duration           678344.0   9.468073   5.479520   0.016667   5.266667   \n",
       "\n",
       "                         50%        75%        max  \n",
       "passenger_count     1.000000   1.000000   2.000000  \n",
       "trip_distance       1.600000   2.600000   7.160000  \n",
       "pickup_longitude  -73.983009 -73.971252 -73.926567  \n",
       "pickup_latitude    40.752926  40.767761  40.819893  \n",
       "dropoff_longitude -73.981644 -73.968102 -73.915062  \n",
       "dropoff_latitude   40.753979  40.768803  40.824322  \n",
       "fare_amount         8.000000  11.500000  25.000000  \n",
       "pickup_day          5.000000   6.000000   6.000000  \n",
       "dropoff_day         5.000000   6.000000   6.000000  \n",
       "pickup_hour        13.000000  18.000000  23.000000  \n",
       "dropoff_hour       13.000000  18.000000  23.000000  \n",
       "pickup_minute      30.000000  45.000000  59.000000  \n",
       "dropoff_minute     29.000000  45.000000  59.000000  \n",
       "duration            8.366667  12.600000  29.850000  "
      ]
     },
     "execution_count": 41,
     "metadata": {},
     "output_type": "execute_result"
    }
   ],
   "source": [
    "df[relevant_feats].describe().T"
   ]
  },
  {
   "cell_type": "code",
   "execution_count": 42,
   "id": "87be53bf",
   "metadata": {
    "scrolled": false
   },
   "outputs": [
    {
     "name": "stderr",
     "output_type": "stream",
     "text": [
      "<ipython-input-42-3b21a08b2d65>:1: FutureWarning: Treating datetime data as categorical rather than numeric in `.describe` is deprecated and will be removed in a future version of pandas. Specify `datetime_is_numeric=True` to silence this warning and adopt the future behavior now.\n",
      "  df[relevant_feats].describe(exclude=np.number).T\n",
      "<ipython-input-42-3b21a08b2d65>:1: FutureWarning: Treating datetime data as categorical rather than numeric in `.describe` is deprecated and will be removed in a future version of pandas. Specify `datetime_is_numeric=True` to silence this warning and adopt the future behavior now.\n",
      "  df[relevant_feats].describe(exclude=np.number).T\n"
     ]
    },
    {
     "data": {
      "text/html": [
       "<div>\n",
       "<style scoped>\n",
       "    .dataframe tbody tr th:only-of-type {\n",
       "        vertical-align: middle;\n",
       "    }\n",
       "\n",
       "    .dataframe tbody tr th {\n",
       "        vertical-align: top;\n",
       "    }\n",
       "\n",
       "    .dataframe thead th {\n",
       "        text-align: right;\n",
       "    }\n",
       "</style>\n",
       "<table border=\"1\" class=\"dataframe\">\n",
       "  <thead>\n",
       "    <tr style=\"text-align: right;\">\n",
       "      <th></th>\n",
       "      <th>count</th>\n",
       "      <th>unique</th>\n",
       "      <th>top</th>\n",
       "      <th>freq</th>\n",
       "      <th>first</th>\n",
       "      <th>last</th>\n",
       "    </tr>\n",
       "  </thead>\n",
       "  <tbody>\n",
       "    <tr>\n",
       "      <th>dropoff_datetime</th>\n",
       "      <td>678344</td>\n",
       "      <td>238801</td>\n",
       "      <td>2016-01-01 01:22:51</td>\n",
       "      <td>16</td>\n",
       "      <td>2016-01-01 00:01:17</td>\n",
       "      <td>2016-01-29 12:39:56</td>\n",
       "    </tr>\n",
       "    <tr>\n",
       "      <th>pickup_datetime</th>\n",
       "      <td>678344</td>\n",
       "      <td>235954</td>\n",
       "      <td>2016-01-01 00:21:45</td>\n",
       "      <td>16</td>\n",
       "      <td>2016-01-01 00:00:01</td>\n",
       "      <td>2016-01-29 12:11:06</td>\n",
       "    </tr>\n",
       "  </tbody>\n",
       "</table>\n",
       "</div>"
      ],
      "text/plain": [
       "                   count  unique                 top freq               first  \\\n",
       "dropoff_datetime  678344  238801 2016-01-01 01:22:51   16 2016-01-01 00:01:17   \n",
       "pickup_datetime   678344  235954 2016-01-01 00:21:45   16 2016-01-01 00:00:01   \n",
       "\n",
       "                                last  \n",
       "dropoff_datetime 2016-01-29 12:39:56  \n",
       "pickup_datetime  2016-01-29 12:11:06  "
      ]
     },
     "execution_count": 42,
     "metadata": {},
     "output_type": "execute_result"
    }
   ],
   "source": [
    "df[relevant_feats].describe(exclude=np.number).T"
   ]
  },
  {
   "cell_type": "code",
   "execution_count": 43,
   "id": "24897921",
   "metadata": {},
   "outputs": [],
   "source": [
    "from sklearn.preprocessing import StandardScaler"
   ]
  },
  {
   "cell_type": "code",
   "execution_count": 44,
   "id": "2c264cf6",
   "metadata": {},
   "outputs": [],
   "source": [
    "output_feats = ['pickup_day', 'pickup_hour', 'pickup_minute', 'passenger_count', 'trip_distance', \n",
    "               'pickup_longitude', 'pickup_latitude', 'dropoff_longitude', 'dropoff_latitude',\n",
    "               'fare_amount', 'duration']"
   ]
  },
  {
   "cell_type": "code",
   "execution_count": 45,
   "id": "9c9426d4",
   "metadata": {},
   "outputs": [],
   "source": [
    "to_scale = df[output_feats]\n",
    "scaler = StandardScaler()\n",
    "scaler.fit(to_scale)\n",
    "scaled_data = scaler.transform(to_scale)\n",
    "scaled_df = pd.DataFrame(scaled_data, columns=output_feats)"
   ]
  },
  {
   "cell_type": "code",
   "execution_count": 46,
   "id": "5a201430",
   "metadata": {},
   "outputs": [],
   "source": [
    "price_feats = ['pickup_day', 'pickup_hour', 'pickup_minute', 'passenger_count', 'trip_distance', \n",
    "               'pickup_longitude', 'pickup_latitude', 'dropoff_longitude', 'dropoff_latitude',\n",
    "               'fare_amount']\n",
    "\n",
    "duration_feats = ['pickup_day', 'pickup_hour', 'pickup_minute', 'trip_distance', \n",
    "                  'pickup_longitude', 'pickup_latitude', 'dropoff_longitude', 'dropoff_latitude',\n",
    "                  'duration']"
   ]
  },
  {
   "cell_type": "code",
   "execution_count": 47,
   "id": "1611f802",
   "metadata": {},
   "outputs": [
    {
     "data": {
      "text/html": [
       "<div>\n",
       "<style scoped>\n",
       "    .dataframe tbody tr th:only-of-type {\n",
       "        vertical-align: middle;\n",
       "    }\n",
       "\n",
       "    .dataframe tbody tr th {\n",
       "        vertical-align: top;\n",
       "    }\n",
       "\n",
       "    .dataframe thead th {\n",
       "        text-align: right;\n",
       "    }\n",
       "</style>\n",
       "<table border=\"1\" class=\"dataframe\">\n",
       "  <thead>\n",
       "    <tr style=\"text-align: right;\">\n",
       "      <th></th>\n",
       "      <th>pickup_day</th>\n",
       "      <th>pickup_hour</th>\n",
       "      <th>pickup_minute</th>\n",
       "      <th>passenger_count</th>\n",
       "      <th>trip_distance</th>\n",
       "      <th>pickup_longitude</th>\n",
       "      <th>pickup_latitude</th>\n",
       "      <th>dropoff_longitude</th>\n",
       "      <th>dropoff_latitude</th>\n",
       "      <th>fare_amount</th>\n",
       "    </tr>\n",
       "  </thead>\n",
       "  <tbody>\n",
       "    <tr>\n",
       "      <th>0</th>\n",
       "      <td>-0.477812</td>\n",
       "      <td>-1.764541</td>\n",
       "      <td>-1.704535</td>\n",
       "      <td>-0.502770</td>\n",
       "      <td>-0.568382</td>\n",
       "      <td>0.115029</td>\n",
       "      <td>-0.367057</td>\n",
       "      <td>-0.689024</td>\n",
       "      <td>0.034806</td>\n",
       "      <td>-0.035390</td>\n",
       "    </tr>\n",
       "    <tr>\n",
       "      <th>1</th>\n",
       "      <td>-0.477812</td>\n",
       "      <td>-1.764541</td>\n",
       "      <td>-1.704535</td>\n",
       "      <td>-0.502770</td>\n",
       "      <td>0.911317</td>\n",
       "      <td>-1.036111</td>\n",
       "      <td>-1.300375</td>\n",
       "      <td>-0.896753</td>\n",
       "      <td>-2.654296</td>\n",
       "      <td>0.554403</td>\n",
       "    </tr>\n",
       "    <tr>\n",
       "      <th>2</th>\n",
       "      <td>-0.477812</td>\n",
       "      <td>-1.764541</td>\n",
       "      <td>-1.704535</td>\n",
       "      <td>-0.502770</td>\n",
       "      <td>-0.870212</td>\n",
       "      <td>-1.510956</td>\n",
       "      <td>-0.353309</td>\n",
       "      <td>-0.784995</td>\n",
       "      <td>-0.478224</td>\n",
       "      <td>-0.743143</td>\n",
       "    </tr>\n",
       "    <tr>\n",
       "      <th>3</th>\n",
       "      <td>-0.477812</td>\n",
       "      <td>-1.764541</td>\n",
       "      <td>-1.704535</td>\n",
       "      <td>-0.502770</td>\n",
       "      <td>1.272040</td>\n",
       "      <td>-1.398627</td>\n",
       "      <td>-0.473948</td>\n",
       "      <td>-1.523679</td>\n",
       "      <td>-1.893829</td>\n",
       "      <td>1.144197</td>\n",
       "    </tr>\n",
       "    <tr>\n",
       "      <th>4</th>\n",
       "      <td>-0.477812</td>\n",
       "      <td>-1.764541</td>\n",
       "      <td>-1.704535</td>\n",
       "      <td>1.988981</td>\n",
       "      <td>0.167787</td>\n",
       "      <td>-0.649922</td>\n",
       "      <td>-1.539934</td>\n",
       "      <td>-1.402365</td>\n",
       "      <td>-0.539575</td>\n",
       "      <td>0.436445</td>\n",
       "    </tr>\n",
       "  </tbody>\n",
       "</table>\n",
       "</div>"
      ],
      "text/plain": [
       "   pickup_day  pickup_hour  pickup_minute  passenger_count  trip_distance  \\\n",
       "0   -0.477812    -1.764541      -1.704535        -0.502770      -0.568382   \n",
       "1   -0.477812    -1.764541      -1.704535        -0.502770       0.911317   \n",
       "2   -0.477812    -1.764541      -1.704535        -0.502770      -0.870212   \n",
       "3   -0.477812    -1.764541      -1.704535        -0.502770       1.272040   \n",
       "4   -0.477812    -1.764541      -1.704535         1.988981       0.167787   \n",
       "\n",
       "   pickup_longitude  pickup_latitude  dropoff_longitude  dropoff_latitude  \\\n",
       "0          0.115029        -0.367057          -0.689024          0.034806   \n",
       "1         -1.036111        -1.300375          -0.896753         -2.654296   \n",
       "2         -1.510956        -0.353309          -0.784995         -0.478224   \n",
       "3         -1.398627        -0.473948          -1.523679         -1.893829   \n",
       "4         -0.649922        -1.539934          -1.402365         -0.539575   \n",
       "\n",
       "   fare_amount  \n",
       "0    -0.035390  \n",
       "1     0.554403  \n",
       "2    -0.743143  \n",
       "3     1.144197  \n",
       "4     0.436445  "
      ]
     },
     "execution_count": 47,
     "metadata": {},
     "output_type": "execute_result"
    }
   ],
   "source": [
    "final_write = scaled_df[price_feats]\n",
    "final_write.head()"
   ]
  },
  {
   "cell_type": "code",
   "execution_count": 48,
   "id": "3b93246f",
   "metadata": {},
   "outputs": [],
   "source": [
    "compression_opts = dict(method='zip', archive_name='price_model_data.csv')\n",
    "final_write.to_csv('price_model_data.zip', compression=compression_opts)"
   ]
  },
  {
   "cell_type": "code",
   "execution_count": 49,
   "id": "6980e5df",
   "metadata": {
    "scrolled": true
   },
   "outputs": [
    {
     "data": {
      "text/html": [
       "<div>\n",
       "<style scoped>\n",
       "    .dataframe tbody tr th:only-of-type {\n",
       "        vertical-align: middle;\n",
       "    }\n",
       "\n",
       "    .dataframe tbody tr th {\n",
       "        vertical-align: top;\n",
       "    }\n",
       "\n",
       "    .dataframe thead th {\n",
       "        text-align: right;\n",
       "    }\n",
       "</style>\n",
       "<table border=\"1\" class=\"dataframe\">\n",
       "  <thead>\n",
       "    <tr style=\"text-align: right;\">\n",
       "      <th></th>\n",
       "      <th>pickup_day</th>\n",
       "      <th>pickup_hour</th>\n",
       "      <th>pickup_minute</th>\n",
       "      <th>passenger_count</th>\n",
       "      <th>trip_distance</th>\n",
       "      <th>pickup_longitude</th>\n",
       "      <th>pickup_latitude</th>\n",
       "      <th>dropoff_longitude</th>\n",
       "      <th>dropoff_latitude</th>\n",
       "      <th>fare_amount</th>\n",
       "    </tr>\n",
       "  </thead>\n",
       "  <tbody>\n",
       "    <tr>\n",
       "      <th>0</th>\n",
       "      <td>-0.477812</td>\n",
       "      <td>-1.764541</td>\n",
       "      <td>-1.704535</td>\n",
       "      <td>-0.502770</td>\n",
       "      <td>-0.568382</td>\n",
       "      <td>0.115029</td>\n",
       "      <td>-0.367057</td>\n",
       "      <td>-0.689024</td>\n",
       "      <td>0.034806</td>\n",
       "      <td>-0.035390</td>\n",
       "    </tr>\n",
       "    <tr>\n",
       "      <th>1</th>\n",
       "      <td>-0.477812</td>\n",
       "      <td>-1.764541</td>\n",
       "      <td>-1.704535</td>\n",
       "      <td>-0.502770</td>\n",
       "      <td>0.911317</td>\n",
       "      <td>-1.036111</td>\n",
       "      <td>-1.300375</td>\n",
       "      <td>-0.896753</td>\n",
       "      <td>-2.654296</td>\n",
       "      <td>0.554403</td>\n",
       "    </tr>\n",
       "    <tr>\n",
       "      <th>2</th>\n",
       "      <td>-0.477812</td>\n",
       "      <td>-1.764541</td>\n",
       "      <td>-1.704535</td>\n",
       "      <td>-0.502770</td>\n",
       "      <td>-0.870212</td>\n",
       "      <td>-1.510956</td>\n",
       "      <td>-0.353309</td>\n",
       "      <td>-0.784995</td>\n",
       "      <td>-0.478224</td>\n",
       "      <td>-0.743143</td>\n",
       "    </tr>\n",
       "    <tr>\n",
       "      <th>3</th>\n",
       "      <td>-0.477812</td>\n",
       "      <td>-1.764541</td>\n",
       "      <td>-1.704535</td>\n",
       "      <td>-0.502770</td>\n",
       "      <td>1.272040</td>\n",
       "      <td>-1.398627</td>\n",
       "      <td>-0.473948</td>\n",
       "      <td>-1.523679</td>\n",
       "      <td>-1.893829</td>\n",
       "      <td>1.144197</td>\n",
       "    </tr>\n",
       "    <tr>\n",
       "      <th>4</th>\n",
       "      <td>-0.477812</td>\n",
       "      <td>-1.764541</td>\n",
       "      <td>-1.704535</td>\n",
       "      <td>1.988981</td>\n",
       "      <td>0.167787</td>\n",
       "      <td>-0.649922</td>\n",
       "      <td>-1.539934</td>\n",
       "      <td>-1.402365</td>\n",
       "      <td>-0.539575</td>\n",
       "      <td>0.436445</td>\n",
       "    </tr>\n",
       "  </tbody>\n",
       "</table>\n",
       "</div>"
      ],
      "text/plain": [
       "   pickup_day  pickup_hour  pickup_minute  passenger_count  trip_distance  \\\n",
       "0   -0.477812    -1.764541      -1.704535        -0.502770      -0.568382   \n",
       "1   -0.477812    -1.764541      -1.704535        -0.502770       0.911317   \n",
       "2   -0.477812    -1.764541      -1.704535        -0.502770      -0.870212   \n",
       "3   -0.477812    -1.764541      -1.704535        -0.502770       1.272040   \n",
       "4   -0.477812    -1.764541      -1.704535         1.988981       0.167787   \n",
       "\n",
       "   pickup_longitude  pickup_latitude  dropoff_longitude  dropoff_latitude  \\\n",
       "0          0.115029        -0.367057          -0.689024          0.034806   \n",
       "1         -1.036111        -1.300375          -0.896753         -2.654296   \n",
       "2         -1.510956        -0.353309          -0.784995         -0.478224   \n",
       "3         -1.398627        -0.473948          -1.523679         -1.893829   \n",
       "4         -0.649922        -1.539934          -1.402365         -0.539575   \n",
       "\n",
       "   fare_amount  \n",
       "0    -0.035390  \n",
       "1     0.554403  \n",
       "2    -0.743143  \n",
       "3     1.144197  \n",
       "4     0.436445  "
      ]
     },
     "execution_count": 49,
     "metadata": {},
     "output_type": "execute_result"
    }
   ],
   "source": [
    "final_read = pd.read_csv('price_model_data.zip')\n",
    "final_read.drop(columns=['Unnamed: 0'], inplace=True)\n",
    "final_read.head()"
   ]
  },
  {
   "cell_type": "code",
   "execution_count": null,
   "id": "b7394bf6",
   "metadata": {},
   "outputs": [],
   "source": []
  }
 ],
 "metadata": {
  "kernelspec": {
   "display_name": "Python 3",
   "language": "python",
   "name": "python3"
  },
  "language_info": {
   "codemirror_mode": {
    "name": "ipython",
    "version": 3
   },
   "file_extension": ".py",
   "mimetype": "text/x-python",
   "name": "python",
   "nbconvert_exporter": "python",
   "pygments_lexer": "ipython3",
   "version": "3.8.8"
  }
 },
 "nbformat": 4,
 "nbformat_minor": 5
}
